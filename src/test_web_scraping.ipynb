{
 "cells": [
  {
   "cell_type": "markdown",
   "metadata": {},
   "source": [
    "# Configuración del Entorno\n",
    "- validar instalación de virtualenv: `pip install virtualenv`\n",
    "- Crear entorno virtual: `virtualenv env`\n",
    "- Activar entorno: `.\\env\\Scripts\\activate`\n",
    "- Instalación de librerias:\n",
    "  ```\n",
    "    pip install virtualenv beautifulsoup4 requests pandas numpy selenium\n",
    "  ```\n",
    "- Desactivar : `deactivate`\n",
    "- crear requirements.txt: `pip freeze > .\\requirements.txt`\n",
    "- instalar librerias desde requirements.txt: `pip install -r .\\requirements.txt`"
   ]
  },
  {
   "cell_type": "markdown",
   "metadata": {},
   "source": [
    "https://www.carroya.com/"
   ]
  },
  {
   "cell_type": "markdown",
   "metadata": {},
   "source": [
    "## librerias"
   ]
  },
  {
   "cell_type": "code",
   "execution_count": 2,
   "metadata": {},
   "outputs": [
    {
     "name": "stderr",
     "output_type": "stream",
     "text": [
      "c:\\Users\\Msastoqu\\OneDrive - Caracol Televisión S.A\\Master\\TFM\\project\\env\\lib\\site-packages\\tqdm\\auto.py:21: TqdmWarning: IProgress not found. Please update jupyter and ipywidgets. See https://ipywidgets.readthedocs.io/en/stable/user_install.html\n",
      "  from .autonotebook import tqdm as notebook_tqdm\n"
     ]
    }
   ],
   "source": [
    "# Import libraries\n",
    "import json\n",
    "import datetime\n",
    "import time\n",
    "import pandas as pd\n",
    "\n",
    "import selenium\n",
    "from selenium import webdriver\n",
    "from webdriver_manager.chrome import ChromeDriverManager\n",
    "from selenium.webdriver.common.keys import Keys\n",
    "from selenium.webdriver.support.ui import WebDriverWait\n",
    "from selenium.webdriver.common.by import By\n",
    "from selenium.webdriver.support import expected_conditions as EC\n",
    "from selenium.common.exceptions import NoSuchElementException\n",
    "\n",
    "from definitions import *\n",
    "from functions_ws import *\n",
    "from functions_data import *\n",
    "\n",
    "print(f'max_pages = {max_pages}')\n"
   ]
  },
  {
   "cell_type": "markdown",
   "metadata": {},
   "source": [
    "## 1. Download Car List"
   ]
  },
  {
   "cell_type": "code",
   "execution_count": 4,
   "metadata": {},
   "outputs": [
    {
     "name": "stdout",
     "output_type": "stream",
     "text": [
      "==== START SCRIPT ====\n",
      "selenium version: 4.20.0\n",
      "Browser started ====> Carros y Camionetas nuevos y usados en Colombia | CarroYa.com\n",
      "\tresutlados: 36830\n",
      "=== Cookies clicked ====\n",
      "2024-05-18 10:36:31\n",
      "Error or Timeout waiting page https://www.carroya.com/automoviles-y-camionetas?page=1\n",
      "=== Page1 === https://www.carroya.com/automoviles-y-camionetas?page=1 === 23 items\n",
      "=== Page2 === https://www.carroya.com/automoviles-y-camionetas?page=2 === 23 items\n",
      "=== Page3 === https://www.carroya.com/automoviles-y-camionetas?page=3 === 23 items\n",
      "=== Page4 === https://www.carroya.com/automoviles-y-camionetas?page=4 === 23 items\n",
      "=== Page5 === https://www.carroya.com/automoviles-y-camionetas?page=5 === 23 items\n",
      "===== TOTAL ITEMS:115\n",
      "2024-05-18 10:37:25\n"
     ]
    }
   ],
   "source": [
    "\n",
    "print('==== START SCRIPT ====')\n",
    "# Initialize browser url from definitions\n",
    "driver, wait = ini_browser(url_base,xpath_dic,retries)\n",
    "\n",
    "\n",
    "# get the current date and time\n",
    "now = datetime.datetime.now().strftime(\"%Y-%m-%d %H:%M:%S\")\n",
    "print(now)\n",
    "\n",
    "total_car_list = []\n",
    "\n",
    "    \n",
    "for page in range(max_pages):\n",
    "    # Change pages\n",
    "    url = url_base + f'?page={page+1}'\n",
    "    driver.get(url)\n",
    "\n",
    "    \n",
    "    try:\n",
    "        element_present = EC.presence_of_element_located((By.XPATH, xpath_dic['cards']))\n",
    "        WebDriverWait(driver, timeout=10).until(element_present)\n",
    "    except:\n",
    "        print(f'Error or Timeout waiting page {url}')\n",
    "        driver.refresh()\n",
    "        driver.implicitly_wait(10) # seconds\n",
    "        \n",
    "    \n",
    "\n",
    "    # Exctract  ids and links from every item\n",
    "    ids = driver.find_elements(By.XPATH,value=xpath_dic['id'])\n",
    "    list_ids = [item.get_attribute('id') for item in ids]\n",
    "    items = len(ids)\n",
    "    print(f'=== Page{page+1} === {url} === {items} items')\n",
    "\n",
    "\n",
    "    links = driver.find_elements(By.XPATH,value=xpath_dic['link'])\n",
    "    list_links = [link.get_attribute('href') for link in links] \n",
    "\n",
    "    if len(ids) == len(links):\n",
    "        cars = list(zip(list_ids,list_links)) \n",
    "        total_car_list = total_car_list + cars\n",
    "    else:\n",
    "        print('==== Error getting links and ids ====')\n",
    "\n",
    "print(f'===== TOTAL ITEMS:{len(total_car_list)}')\n",
    "\n",
    "# get the current date and time\n",
    "now = datetime.datetime.now().strftime(\"%Y-%m-%d %H:%M:%S\")\n",
    "print(now)\n",
    "\n"
   ]
  },
  {
   "cell_type": "code",
   "execution_count": 5,
   "metadata": {},
   "outputs": [],
   "source": [
    "# Save data to json\n",
    "with open(f'../{json_file}', 'w') as file:\n",
    "    json.dump(dict(total_car_list), file)"
   ]
  },
  {
   "cell_type": "code",
   "execution_count": 6,
   "metadata": {},
   "outputs": [
    {
     "name": "stdout",
     "output_type": "stream",
     "text": [
      "ec6a3a55-1fe0-423b-91b4-82ee9f287ce3 https://www.carroya.com/detalle/usado/mazda/3/2022/ibague/ec6a3a55-1fe0-423b-91b4-82ee9f287ce3\n"
     ]
    },
    {
     "data": {
      "text/plain": [
       "{'id': 'ec6a3a55-1fe0-423b-91b4-82ee9f287ce3',\n",
       " 'link': 'https://www.carroya.com/detalle/usado/mazda/3/2022/ibague/ec6a3a55-1fe0-423b-91b4-82ee9f287ce3',\n",
       " 'modelo': 'Mazda 3',\n",
       " 'version': '2.0 Sedan Touring Aut',\n",
       " 'precio': '$92.000.000',\n",
       " 'ciudad': 'Ibague',\n",
       " 'km': '20.100 km',\n",
       " 'año': '2022',\n",
       " 'ESTADO': 'usado',\n",
       " 'UBICACIÓN': 'Ibague',\n",
       " 'PLACA': '**1 Ibague',\n",
       " 'TIPO DE CAJA': 'Automática',\n",
       " 'COMBUSTIBLE': 'Gasolina',\n",
       " 'CILINDRAJE': '2.000',\n",
       " 'COLOR': 'Rojo'}"
      ]
     },
     "execution_count": 6,
     "metadata": {},
     "output_type": "execute_result"
    }
   ],
   "source": [
    "# prueba función de extracción de datos sobre un elemento en específico\n",
    "i= 5\n",
    "print(total_car_list[i][0],total_car_list[i][1])\n",
    "get_car_details(total_car_list[i][0],total_car_list[i][1],xpath_dic,driver,wait)"
   ]
  },
  {
   "cell_type": "markdown",
   "metadata": {},
   "source": [
    "## 2. Download Car details"
   ]
  },
  {
   "cell_type": "code",
   "execution_count": 16,
   "metadata": {},
   "outputs": [
    {
     "data": {
      "text/plain": [
       "{'2044748': 'https://www.carroya.com/detalle/nuevoficha/renault/duster/2023/bogota/2044748',\n",
       " '7b226279-127a-4c57-aa5d-cf858ee4cbfc': 'https://www.carroya.com/detalle/usado/nissan/tiida/2012/bogota/7b226279-127a-4c57-aa5d-cf858ee4cbfc',\n",
       " '2233ee9c-20b5-431e-a104-e518fa774002': 'https://www.carroya.com/detalle/usado/jeep/gladiator/2020/abriaqui/2233ee9c-20b5-431e-a104-e518fa774002',\n",
       " '990e3958-aeed-4267-b599-cdf041872c67': 'https://www.carroya.com/detalle/usado/mazda/cx-30/2021/barranquilla/990e3958-aeed-4267-b599-cdf041872c67'}"
      ]
     },
     "execution_count": 16,
     "metadata": {},
     "output_type": "execute_result"
    }
   ],
   "source": [
    "# Prueba de la lectura del json \n",
    "j =[[\"2044748\",\"https://www.carroya.com/detalle/nuevoficha/renault/duster/2023/bogota/2044748\"],\n",
    "[\"7b226279-127a-4c57-aa5d-cf858ee4cbfc\",\"https://www.carroya.com/detalle/usado/nissan/tiida/2012/bogota/7b226279-127a-4c57-aa5d-cf858ee4cbfc\"],\n",
    "[\"2233ee9c-20b5-431e-a104-e518fa774002\", \"https://www.carroya.com/detalle/usado/jeep/gladiator/2020/abriaqui/2233ee9c-20b5-431e-a104-e518fa774002\"],\n",
    "[\"990e3958-aeed-4267-b599-cdf041872c67\", \"https://www.carroya.com/detalle/usado/mazda/cx-30/2021/barranquilla/990e3958-aeed-4267-b599-cdf041872c67\"],]\n",
    "\n",
    "d = dict(j)\n",
    "d"
   ]
  },
  {
   "cell_type": "code",
   "execution_count": 17,
   "metadata": {},
   "outputs": [
    {
     "data": {
      "text/plain": [
       "{'7b226279-127a-4c57-aa5d-cf858ee4cbfc': 'https://www.carroya.com/detalle/usado/nissan/tiida/2012/bogota/7b226279-127a-4c57-aa5d-cf858ee4cbfc',\n",
       " '2233ee9c-20b5-431e-a104-e518fa774002': 'https://www.carroya.com/detalle/usado/jeep/gladiator/2020/abriaqui/2233ee9c-20b5-431e-a104-e518fa774002',\n",
       " '990e3958-aeed-4267-b599-cdf041872c67': 'https://www.carroya.com/detalle/usado/mazda/cx-30/2021/barranquilla/990e3958-aeed-4267-b599-cdf041872c67'}"
      ]
     },
     "execution_count": 17,
     "metadata": {},
     "output_type": "execute_result"
    }
   ],
   "source": [
    "# funcion para eliminar los carros nuevos desde el diccionario\n",
    "def delete_new_cars(d:dict) -> dict:\n",
    "    \"\"\" Remove dictionary items with 'nuevoficha' in the link\"\"\"\n",
    "    for key in list(d.keys()):\n",
    "        if 'nuevoficha' in d[key]:\n",
    "            del d[key]\n",
    "    new_dict = d\n",
    "    return new_dict\n",
    "\n",
    "new = delete_new_cars(d)\n",
    "new"
   ]
  },
  {
   "cell_type": "code",
   "execution_count": 22,
   "metadata": {},
   "outputs": [
    {
     "name": "stdout",
     "output_type": "stream",
     "text": [
      "=== Currect Directory - c:\\Users\\Msastoqu\\OneDrive - Caracol Televisión S.A\\Master\\TFM\\project\\src ===\n",
      "=== Items list:115 ===\n",
      "=== Items to get details (only used cars):100 ===\n"
     ]
    }
   ],
   "source": [
    "import os\n",
    "print(f'=== Currect Directory - {os.getcwd()} ===')\n",
    "file = f'../{json_file}'\n",
    "\n",
    "if os.path.exists(file):\n",
    "    with open(file) as f:\n",
    "        d = f.readlines()\n",
    "        dic = json.loads(d[0])\n",
    "        print(f'=== Items list:{len(dic)} ===')\n",
    "        cars_urls = delete_new_cars(dic)\n",
    "        print(f'=== Items to get details (only used cars):{len(cars_urls)} ===')\n",
    "else:\n",
    "    print('File not found - run extract_data.py first!!')\n",
    "\n"
   ]
  },
  {
   "cell_type": "code",
   "execution_count": 23,
   "metadata": {},
   "outputs": [
    {
     "name": "stdout",
     "output_type": "stream",
     "text": [
      "selenium version: 4.20.0\n",
      "Browser started ====> Carros y camionetas usados o nuevos en Colombia | CarroYa\n",
      "\tresutlados: 0\n",
      "\tresutlados: 36828\n",
      "=== Cookies clicked ====\n"
     ]
    }
   ],
   "source": [
    "# Start borwser\n",
    "driver, wait = ini_browser(url_base, xpath_dic= xpath_dic)"
   ]
  },
  {
   "cell_type": "code",
   "execution_count": 24,
   "metadata": {},
   "outputs": [
    {
     "name": "stdout",
     "output_type": "stream",
     "text": [
      "4aa6064e-16b9-4aaa-9170-ff0fd739e522, https://www.carroya.com/detalle/usado/nissan/march/2020/pereira/4aa6064e-16b9-4aaa-9170-ff0fd739e522\n",
      "\tItems: 1\n",
      "09258ec0-1b37-434f-b597-402739d9d34e, https://www.carroya.com/detalle/usado/renault/duster/2016/el-carmen-de-viboral/09258ec0-1b37-434f-b597-402739d9d34e\n",
      "\tItems: 2\n",
      "ec6a3a55-1fe0-423b-91b4-82ee9f287ce3, https://www.carroya.com/detalle/usado/mazda/3/2022/ibague/ec6a3a55-1fe0-423b-91b4-82ee9f287ce3\n",
      "\tItems: 3\n",
      "2281550, https://www.carroya.com/detalle/usado/skoda/octavia/2013/bogota/2281550\n",
      "\tItems: 4\n",
      "2280021, https://www.carroya.com/detalle/usado/bmw/serie-3/2018/bogota/2280021\n",
      "\tItems: 5\n",
      "2282432, https://www.carroya.com/detalle/usado/dodge/journey/2014/bogota/2282432\n",
      "\tItems: 6\n",
      "2280612, https://www.carroya.com/detalle/usado/bmw/serie-3/2011/bogota/2280612\n",
      "\tItems: 7\n",
      "2282219, https://www.carroya.com/detalle/usado/chevrolet/tracker/2016/bogota/2282219\n",
      "\tItems: 8\n",
      "2274048, https://www.carroya.com/detalle/usado/mini/countryman/2014/bogota/2274048\n",
      "\tItems: 9\n",
      "2281931, https://www.carroya.com/detalle/usado/audi/q3/2015/bogota/2281931\n",
      "\tItems: 10\n",
      "2282524, https://www.carroya.com/detalle/usado/subaru/outback/2014/bogota/2282524\n",
      "\tItems: 11\n",
      "44e724ea-ce8f-4168-872c-1a2ea63c176f, https://www.carroya.com/detalle/usado/bmw/m/2019/bogota/44e724ea-ce8f-4168-872c-1a2ea63c176f\n",
      "\tItems: 12\n",
      "0a74a06d-4cd4-4b9f-83b1-5654d24a7f22, https://www.carroya.com/detalle/usado/jeep/compass/2011/bogota/0a74a06d-4cd4-4b9f-83b1-5654d24a7f22\n",
      "\tItems: 13\n",
      "7072a54a-8dc1-4600-8dbe-9f1a37c81d8e, https://www.carroya.com/detalle/usado/byd/tang/2023/medellin/7072a54a-8dc1-4600-8dbe-9f1a37c81d8e\n",
      "\tItems: 14\n",
      "27fe8b7b-5769-45d5-a92f-98d0416679c7, https://www.carroya.com/detalle/usado/volkswagen/golf/2017/bogota/27fe8b7b-5769-45d5-a92f-98d0416679c7\n",
      "\tItems: 15\n",
      "3c157c91-11b3-49ed-8aa2-297c915c84f3, https://www.carroya.com/detalle/usado/kia/rio/2014/medellin/3c157c91-11b3-49ed-8aa2-297c915c84f3\n",
      "\tItems: 16\n",
      "3921ecbc-d576-443b-9d35-b9b50d62873a, https://www.carroya.com/detalle/usado/jeep/renegade/2019/cali/3921ecbc-d576-443b-9d35-b9b50d62873a\n",
      "\tItems: 17\n",
      "7c50995c-1254-41a0-868b-3be93c101ee7, https://www.carroya.com/detalle/usado/mercedes-benz/clase-c/2011/bogota/7c50995c-1254-41a0-868b-3be93c101ee7\n",
      "\tItems: 18\n",
      "ec5c1ee7-6299-415f-8b1d-92ba9a6a5a54, https://www.carroya.com/detalle/usado/ford/edge/2019/bogota/ec5c1ee7-6299-415f-8b1d-92ba9a6a5a54\n",
      "\tItems: 19\n",
      "2282090, https://www.carroya.com/detalle/usado/chery/yoya/2015/bogota/2282090\n",
      "\tItems: 20\n",
      "2282405, https://www.carroya.com/detalle/usado/chevrolet/tracker/2013/bogota/2282405\n",
      "\tItems: 21\n",
      "2281524, https://www.carroya.com/detalle/usado/toyota/hilux/2011/bogota/2281524\n",
      "\tItems: 22\n",
      "2282404, https://www.carroya.com/detalle/usado/mazda/3/2018/bogota/2282404\n",
      "\tItems: 23\n",
      "eaf05bfb-d421-4370-989c-b092c447142d, https://www.carroya.com/detalle/usado/bmw/serie-1/2010/bogota/eaf05bfb-d421-4370-989c-b092c447142d\n",
      "\tItems: 24\n",
      "c93f0b3c-730a-480a-af07-ca80bd009e6c, https://www.carroya.com/detalle/usado/mercedes-benz/clase-a/2017/bogota/c93f0b3c-730a-480a-af07-ca80bd009e6c\n",
      "\tItems: 25\n",
      "e18151c8-6b86-444f-94ca-5e4228268e98, https://www.carroya.com/detalle/usado/suzuki/swift/2022/bogota/e18151c8-6b86-444f-94ca-5e4228268e98\n",
      "\tItems: 26\n",
      "16eee005-89bc-4c92-90bb-23a8180bae93, https://www.carroya.com/detalle/usado/renault/sandero/2022/bogota/16eee005-89bc-4c92-90bb-23a8180bae93\n",
      "\tItems: 27\n",
      "8fa9cfa5-47ae-40f2-9e72-f596617c3518, https://www.carroya.com/detalle/usado/renault/logan/2019/bogota/8fa9cfa5-47ae-40f2-9e72-f596617c3518\n",
      "\tItems: 28\n",
      "2275051, https://www.carroya.com/detalle/usado/chevrolet/tracker/2014/medellin/2275051\n",
      "\tItems: 29\n",
      "2281036, https://www.carroya.com/detalle/usado/chevrolet/optra/2008/medellin/2281036\n",
      "\tItems: 30\n",
      "2275249, https://www.carroya.com/detalle/usado/chevrolet/aveo/2009/medellin/2275249\n",
      "\tItems: 31\n",
      "2275052, https://www.carroya.com/detalle/usado/renault/stepway/2017/medellin/2275052\n",
      "==== TimeOut element //h1[@class=\"title text\"] ====\n",
      "\tItems: 32\n",
      "2281893, https://www.carroya.com/detalle/usado/hyundai/getz/2006/medellin/2281893\n",
      "\tItems: 33\n",
      "78459a8d-9c72-49d5-b99f-1d61c7d5ceb7, https://www.carroya.com/detalle/usado/volkswagen/virtus/2022/tunja/78459a8d-9c72-49d5-b99f-1d61c7d5ceb7\n",
      "\tItems: 34\n",
      "ab1fd3f8-272e-48bd-8543-daee808bed07, https://www.carroya.com/detalle/usado/volkswagen/crossfox/2015/bogota/ab1fd3f8-272e-48bd-8543-daee808bed07\n",
      "\tItems: 35\n",
      "22e7bfdd-9022-410f-9679-403dc20cbeef, https://www.carroya.com/detalle/usado/suzuki/swift/2023/bogota/22e7bfdd-9022-410f-9679-403dc20cbeef\n",
      "\tItems: 36\n",
      "4696fac4-1757-4963-a698-38023a785ae2, https://www.carroya.com/detalle/usado/kia/sportage/2022/cali/4696fac4-1757-4963-a698-38023a785ae2\n",
      "\tItems: 37\n",
      "c4c47024-65aa-4efe-949e-d003fefbdf86, https://www.carroya.com/detalle/usado/kia/sportage/2022/cali/c4c47024-65aa-4efe-949e-d003fefbdf86\n",
      "\tItems: 38\n",
      "dc14ef5a-95bc-44cf-af5d-bea5da3f2ed1, https://www.carroya.com/detalle/usado/ford/ecosport/2017/bogota/dc14ef5a-95bc-44cf-af5d-bea5da3f2ed1\n",
      "\tItems: 39\n",
      "7acb8733-8565-48b2-abac-ec50fc6c534c, https://www.carroya.com/detalle/usado/toyota/crown/1978/bogota/7acb8733-8565-48b2-abac-ec50fc6c534c\n",
      "\tItems: 40\n",
      "f52be678-0e88-42df-9b16-21c356107166, https://www.carroya.com/detalle/usado/ford/fiesta/2016/bogota/f52be678-0e88-42df-9b16-21c356107166\n",
      "\tItems: 41\n",
      "c56b942f-b436-4c49-ad47-c0ac5e28e4aa, https://www.carroya.com/detalle/usado/audi/q5/2012/bogota/c56b942f-b436-4c49-ad47-c0ac5e28e4aa\n",
      "\tItems: 42\n",
      "2276993, https://www.carroya.com/detalle/usado/renault/twingo/2008/bogota/2276993\n",
      "\tItems: 43\n",
      "2282551, https://www.carroya.com/detalle/usado/nissan/kicks/2018/bogota/2282551\n",
      "\tItems: 44\n",
      "2281366, https://www.carroya.com/detalle/usado/nissan/new-march/2019/bogota/2281366\n",
      "\tItems: 45\n",
      "2281221, https://www.carroya.com/detalle/usado/nissan/x-trail-i/2016/bogota/2281221\n",
      "\tItems: 46\n",
      "2281409, https://www.carroya.com/detalle/usado/nissan/kicks/2019/bogota/2281409\n",
      "\tItems: 47\n",
      "2280844, https://www.carroya.com/detalle/usado/renault/logan/2009/bogota/2280844\n",
      "\tItems: 48\n",
      "2282590, https://www.carroya.com/detalle/usado/nissan/tiida/2012/bogota/2282590\n",
      "\tItems: 49\n",
      "2279254, https://www.carroya.com/detalle/usado/renault/fluence/2012/bogota/2279254\n",
      "\tItems: 50\n",
      "f2fd7eb8-85a7-42b7-b170-ce80096da8df, https://www.carroya.com/detalle/usado/mercedes-benz/clase-e/2013/bogota/f2fd7eb8-85a7-42b7-b170-ce80096da8df\n",
      "\tItems: 51\n",
      "af99e7ea-c33c-4c1f-8169-22087bba1182, https://www.carroya.com/detalle/usado/ford/fiesta/2019/garzon/af99e7ea-c33c-4c1f-8169-22087bba1182\n",
      "\tItems: 52\n",
      "512174d6-a701-4a52-bb57-a9478aafbb8e, https://www.carroya.com/detalle/usado/toyota/corolla/2022/medellin/512174d6-a701-4a52-bb57-a9478aafbb8e\n",
      "\tItems: 53\n",
      "2282293, https://www.carroya.com/detalle/usado/nissan/sentra/2016/bogota/2282293\n",
      "\tItems: 54\n",
      "2281837, https://www.carroya.com/detalle/usado/fiat/uno/2021/bogota/2281837\n",
      "\tItems: 55\n",
      "2281895, https://www.carroya.com/detalle/usado/jetour/x70/2023/bogota/2281895\n",
      "\tItems: 56\n",
      "2282424, https://www.carroya.com/detalle/usado/renault/duster-oroch/2020/bogota/2282424\n",
      "\tItems: 57\n",
      "2281829, https://www.carroya.com/detalle/usado/chevrolet/onix/2021/bogota/2281829\n",
      "\tItems: 58\n",
      "b4741e12-4664-4aa8-88cb-2c21a2f871a5, https://www.carroya.com/detalle/usado/ford/fiesta/2011/bogota/b4741e12-4664-4aa8-88cb-2c21a2f871a5\n",
      "\tItems: 59\n",
      "404fde21-52d1-4a9d-8df3-989aa80b5c7f, https://www.carroya.com/detalle/usado/toyota/rav-4/2019/bogota/404fde21-52d1-4a9d-8df3-989aa80b5c7f\n",
      "==== TimeOut element //h1[@class=\"priceInfo text\"] ====\n",
      "\tItems: 60\n",
      "c9a49562-f751-4d67-9ce9-99f3d7fe6b08, https://www.carroya.com/detalle/usado/mazda/cx-30/2022/cali/c9a49562-f751-4d67-9ce9-99f3d7fe6b08\n",
      "\tItems: 61\n",
      "c1ae45a9-2ff4-4a63-943f-998421c766e4, https://www.carroya.com/detalle/usado/renault/koleos/2014/palmira/c1ae45a9-2ff4-4a63-943f-998421c766e4\n",
      "\tItems: 62\n",
      "0ffa338c-e9cc-46e5-b12e-9e636d3d822e, https://www.carroya.com/detalle/usado/ford/bronco/2023/bogota/0ffa338c-e9cc-46e5-b12e-9e636d3d822e\n",
      "\tItems: 63\n",
      "2282526, https://www.carroya.com/detalle/usado/renault/kwid/2024/cali/2282526\n",
      "\tItems: 64\n",
      "2282458, https://www.carroya.com/detalle/usado/renault/sandero/2018/cali/2282458\n",
      "\tItems: 65\n",
      "2281985, https://www.carroya.com/detalle/usado/renault/logan/2019/cali/2281985\n",
      "\tItems: 66\n",
      "2282497, https://www.carroya.com/detalle/usado/renault/clio/2016/cali/2282497\n",
      "\tItems: 67\n",
      "a504af1d-6029-4597-9f56-c9fd489fc340, https://www.carroya.com/detalle/usado/hyundai/santafe/2004/jamundi/a504af1d-6029-4597-9f56-c9fd489fc340\n",
      "\tItems: 68\n",
      "941788d3-4b44-4b7b-b32c-8441010e8538, https://www.carroya.com/detalle/usado/mercedes-benz/clase-gle/2022/cali/941788d3-4b44-4b7b-b32c-8441010e8538\n",
      "\tItems: 69\n",
      "08f29fcd-9ff8-4faa-af57-e0c070bee604, https://www.carroya.com/detalle/usado/mazda/3/2017/bogota/08f29fcd-9ff8-4faa-af57-e0c070bee604\n",
      "\tItems: 70\n",
      "09379fa9-14b0-410f-9cb9-b778fb992b81, https://www.carroya.com/detalle/usado/hyundai/santafe/2016/bogota/09379fa9-14b0-410f-9cb9-b778fb992b81\n",
      "\tItems: 71\n",
      "4c599a5c-460c-428d-852f-76d19da689ee, https://www.carroya.com/detalle/usado/ford/fiesta/2017/cali/4c599a5c-460c-428d-852f-76d19da689ee\n",
      "\tItems: 72\n",
      "c4421f7c-2dc9-42b2-8940-83f77f7115fe, https://www.carroya.com/detalle/usado/chevrolet/tracker/2020/bogota/c4421f7c-2dc9-42b2-8940-83f77f7115fe\n",
      "\tItems: 73\n",
      "7b9e63aa-f8df-426b-8fc4-627787514b8c, https://www.carroya.com/detalle/usado/chevrolet/sail/2020/bogota/7b9e63aa-f8df-426b-8fc4-627787514b8c\n",
      "\tItems: 74\n",
      "224e6568-b5c5-4512-a2b4-53a2a731162a, https://www.carroya.com/detalle/usado/nissan/versa/2016/cali/224e6568-b5c5-4512-a2b4-53a2a731162a\n",
      "\tItems: 75\n",
      "8f6e59d3-8a35-4c25-90a5-6a54babf8ebc, https://www.carroya.com/detalle/usado/toyota/prado/2012/bogota/8f6e59d3-8a35-4c25-90a5-6a54babf8ebc\n",
      "\tItems: 76\n",
      "809517bf-faa8-4580-a21d-dae05c230c7e, https://www.carroya.com/detalle/usado/chevrolet/onix/2021/bogota/809517bf-faa8-4580-a21d-dae05c230c7e\n",
      "\tItems: 77\n",
      "86775539-0872-4a48-937c-1ec6fdbcbbdd, https://www.carroya.com/detalle/usado/citroen/c-elysee/2016/bogota/86775539-0872-4a48-937c-1ec6fdbcbbdd\n",
      "\tItems: 78\n",
      "ed24e725-4c29-4d2f-bf4f-cdb757c109d3, https://www.carroya.com/detalle/usado/mercedes-benz/clase-c/2013/bogota/ed24e725-4c29-4d2f-bf4f-cdb757c109d3\n",
      "\tItems: 79\n",
      "f1131c81-f7e3-4566-8f02-98b5aba78584, https://www.carroya.com/detalle/usado/fiat/500/2013/la-ceja/f1131c81-f7e3-4566-8f02-98b5aba78584\n",
      "\tItems: 80\n",
      "1a02ffae-adf9-4476-b4d9-3ab159d4cd7c, https://www.carroya.com/detalle/usado/citroen/c4/2020/floridablanca/1a02ffae-adf9-4476-b4d9-3ab159d4cd7c\n",
      "\tItems: 81\n",
      "ef9b3ee8-5d55-4e9e-a459-d6dc6d954f61, https://www.carroya.com/detalle/usado/mini/cooper/2020/chia/ef9b3ee8-5d55-4e9e-a459-d6dc6d954f61\n",
      "\tItems: 82\n",
      "bd743b76-f6c9-45ea-9fd3-6b1e5d253799, https://www.carroya.com/detalle/usado/mazda/3/2020/pereira/bd743b76-f6c9-45ea-9fd3-6b1e5d253799\n",
      "\tItems: 83\n",
      "31cdc481-6bc9-4025-9768-ccd05c078c25, https://www.carroya.com/detalle/usado/citroen/c4/2022/manizales/31cdc481-6bc9-4025-9768-ccd05c078c25\n",
      "\tItems: 84\n",
      "046b29e9-4ee1-4224-84db-d3c43ee870d4, https://www.carroya.com/detalle/usado/renault/twingo/2011/bogota/046b29e9-4ee1-4224-84db-d3c43ee870d4\n",
      "\tItems: 85\n",
      "bb9f93e4-0a20-4eeb-9746-d52547169ad5, https://www.carroya.com/detalle/usado/chevrolet/blazer/2023/chia/bb9f93e4-0a20-4eeb-9746-d52547169ad5\n",
      "\tItems: 86\n",
      "916b7fe2-66c3-4c8e-9d54-f12801c7474a, https://www.carroya.com/detalle/usado/kia/picanto/2022/cali/916b7fe2-66c3-4c8e-9d54-f12801c7474a\n",
      "\tItems: 87\n",
      "1c7f852c-9a12-4239-96c9-0463ce54538e, https://www.carroya.com/detalle/usado/kia/cerato-forte/2013/bogota/1c7f852c-9a12-4239-96c9-0463ce54538e\n",
      "\tItems: 88\n",
      "864c0418-62dd-4218-b09c-80ee2f51e5a2, https://www.carroya.com/detalle/usado/toyota/corolla/2021/bogota/864c0418-62dd-4218-b09c-80ee2f51e5a2\n",
      "\tItems: 89\n",
      "4d724466-3f5c-4590-863e-26743c31e082, https://www.carroya.com/detalle/usado/hyundai/tucson/2013/barranquilla/4d724466-3f5c-4590-863e-26743c31e082\n",
      "\tItems: 90\n",
      "29dbc720-48b3-42e7-9558-22820fad0dba, https://www.carroya.com/detalle/usado/toyota/fortuner/2020/bogota/29dbc720-48b3-42e7-9558-22820fad0dba\n",
      "\tItems: 91\n",
      "a8a04e57-f899-48fe-8695-b5a71133b346, https://www.carroya.com/detalle/usado/mazda/cx-3/2017/bogota/a8a04e57-f899-48fe-8695-b5a71133b346\n",
      "\tItems: 92\n",
      "b7edf0be-f151-4257-b58d-0586a74e7fc4, https://www.carroya.com/detalle/usado/jeep/renegade/2022/bucaramanga/b7edf0be-f151-4257-b58d-0586a74e7fc4\n",
      "\tItems: 93\n",
      "3554e361-2506-45f3-a665-3b95af3d5314, https://www.carroya.com/detalle/usado/ford/fusion/2014/medellin/3554e361-2506-45f3-a665-3b95af3d5314\n",
      "\tItems: 94\n",
      "f8463baf-7355-4914-85a0-ed8f52103161, https://www.carroya.com/detalle/usado/dfsk/van/2015/bogota/f8463baf-7355-4914-85a0-ed8f52103161\n",
      "\tItems: 95\n",
      "dba9a4d6-0c96-4589-8a3d-0dc9f5109f16, https://www.carroya.com/detalle/usado/jeep/comando/1954/bogota/dba9a4d6-0c96-4589-8a3d-0dc9f5109f16\n",
      "\tItems: 96\n",
      "6c46c566-92e1-4184-873e-6cf4bc7313a1, https://www.carroya.com/detalle/usado/nissan/x-trail/2019/bogota/6c46c566-92e1-4184-873e-6cf4bc7313a1\n",
      "\tItems: 97\n",
      "db768852-04db-4516-a7fe-6d9a2ddc9d1e, https://www.carroya.com/detalle/usado/nissan/versa/2020/bogota/db768852-04db-4516-a7fe-6d9a2ddc9d1e\n",
      "\tItems: 98\n",
      "c9a0bf4d-09d6-4544-a705-28f50fe8107e, https://www.carroya.com/detalle/usado/renault/clio/2007/cali/c9a0bf4d-09d6-4544-a705-28f50fe8107e\n",
      "\tItems: 99\n",
      "f674328c-d998-4a29-8bb0-8da5e00158bb, https://www.carroya.com/detalle/usado/nissan/qashqai/2016/cali/f674328c-d998-4a29-8bb0-8da5e00158bb\n",
      "\tItems: 100\n",
      "size: (100, 18) - columns: Index(['id', 'link', 'modelo', 'version', 'precio', 'ciudad', 'km', 'año',\n",
      "       'ESTADO', 'UBICACIÓN', 'PLACA', 'TIPO DE CAJA', 'COMBUSTIBLE',\n",
      "       'CILINDRAJE', 'COLOR', 'PUERTAS', 'AIRBAGS', 'DIRECCIÓN'],\n",
      "      dtype='object')\n"
     ]
    }
   ],
   "source": [
    "# Get details of each car\n",
    "total_car_detail = []\n",
    "\n",
    "for key, value in cars_urls.items():\n",
    "    print(f\"{key}, {value}\")\n",
    "    try:\n",
    "        # Entra pagina de detalles del vehiculo\n",
    "        temp_car = get_car_details(key,value,xpath_dic,driver,wait, retries=retries, type='link')\n",
    "        total_car_detail.append(temp_car)\n",
    "    except:\n",
    "        print('==== Error en la extracción de detalles')\n",
    "    print(f'\\tItems: {len(total_car_detail)}')\n",
    "\n",
    "df = pd.DataFrame(total_car_detail)\n",
    "print(f'size: {df.shape} - columns: {df.columns}' )\n",
    "\n"
   ]
  },
  {
   "cell_type": "code",
   "execution_count": 26,
   "metadata": {},
   "outputs": [],
   "source": [
    "# save data to csv\n",
    "csv_file = f'data/car_details_{max_pages}.csv'\n",
    "df.to_csv(f'../{csv_file}',index=False)"
   ]
  }
 ],
 "metadata": {
  "kernelspec": {
   "display_name": "env",
   "language": "python",
   "name": "python3"
  },
  "language_info": {
   "codemirror_mode": {
    "name": "ipython",
    "version": 3
   },
   "file_extension": ".py",
   "mimetype": "text/x-python",
   "name": "python",
   "nbconvert_exporter": "python",
   "pygments_lexer": "ipython3",
   "version": "3.10.11"
  }
 },
 "nbformat": 4,
 "nbformat_minor": 2
}
